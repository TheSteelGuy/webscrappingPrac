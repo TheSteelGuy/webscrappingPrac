{
 "cells": [
  {
   "cell_type": "code",
   "execution_count": 41,
   "metadata": {},
   "outputs": [],
   "source": [
    "# the imports are available if you installed anaconda\n",
    "import requests\n",
    "from bs4 import BeautifulSoup"
   ]
  },
  {
   "cell_type": "markdown",
   "metadata": {},
   "source": [
    "### an example of the dom elements to be screpped\n"
   ]
  },
  {
   "cell_type": "code",
   "execution_count": 42,
   "metadata": {},
   "outputs": [],
   "source": [
    "html_string = \"\"\"\n",
    "<!DOCTYPE html>\n",
    "<html>\n",
    "\n",
    "<head>\n",
    "    <meta charset=\"utf-8\" />\n",
    "    <meta http-equiv=\"X-UA-Compatible\" content=\"IE=edge\">\n",
    "    <title>Homepage</title>\n",
    "    <meta name=\"viewport\" content=\"width=device-width, initial-scale=1\">\n",
    "    <link rel=\"stylesheet\" type=\"text/css\" media=\"screen\" href=\"main.css\" />\n",
    "    <script src=\"main.js\"></script>\n",
    "</head>\n",
    "\n",
    "<body>\n",
    "    <div id=\"wrapperr\">\n",
    "        <!--begin wrapper-->\n",
    "        <div id=\"header\">\n",
    "            <ul>\n",
    "                <li>\n",
    "                    <h2 id=\"logo\">StackOverFLowLite</h2>\n",
    "                </li>\n",
    "                <li>\n",
    "                        <a  href=\"questions.html\">Home</a>\n",
    "                    </li>\n",
    "                <li id=\"right\">\n",
    "                    <a  href=\"signup.html\">Sign Up</a>\n",
    "                </li>\n",
    "                <li id=\"right\">\n",
    "                    <a href=\"login.html\">Sign In</a>\n",
    "                </li>\n",
    "            </ul> \n",
    "        </div>\n",
    "        <div id=\"body\" >\n",
    "            <div class=\"index\"><br><br>\n",
    "                <h3>StackOverFLowLite</h3>\n",
    "                <hr id=\"ruler\">\n",
    "                <h4>A platfrom for Everyone</h4>\n",
    "                <h5>Welcome all</h5>\n",
    "                <h3>About SOL</h3>\n",
    "                <table style=\"width:100%\">\n",
    "  <tr>\n",
    "    <th>Firstname</th>\n",
    "    <th>Lastname</th> \n",
    "    <th>Age</th>\n",
    "  </tr>\n",
    "  <tr>\n",
    "    <td>Jill</td>\n",
    "    <td>Smith</td>\n",
    "    <td>50</td>\n",
    "  </tr>\n",
    "  <tr>\n",
    "    <td>Eve</td>\n",
    "    <td>Jackson</td>\n",
    "    <td>94</td>\n",
    "  </tr>\n",
    "  <tr>\n",
    "    <td>John</td>\n",
    "    <td>Doe</td>\n",
    "    <td>80</td>\n",
    "  </tr>\n",
    "</table>\n",
    "                <h4>StackOverflow-lite is a platform where people can ask questions and provide answers</h4>\n",
    "            </div>\n",
    "        </div>\n",
    "        <div id=\"footer\">\n",
    "            <p>&copy StackOverFLowLite.All rights reserved </p>\n",
    "        </div>\n",
    "    </div>\n",
    "    <!--end of wrapper-->\n",
    "</body>\n",
    "\n",
    "</html>\n",
    "\"\"\"\n"
   ]
  },
  {
   "cell_type": "code",
   "execution_count": 43,
   "metadata": {},
   "outputs": [
    {
     "data": {
      "text/html": [
       "\n",
       "<!DOCTYPE html>\n",
       "<html>\n",
       "\n",
       "<head>\n",
       "    <meta charset=\"utf-8\" />\n",
       "    <meta http-equiv=\"X-UA-Compatible\" content=\"IE=edge\">\n",
       "    <title>Homepage</title>\n",
       "    <meta name=\"viewport\" content=\"width=device-width, initial-scale=1\">\n",
       "    <link rel=\"stylesheet\" type=\"text/css\" media=\"screen\" href=\"main.css\" />\n",
       "    <script src=\"main.js\"></script>\n",
       "</head>\n",
       "\n",
       "<body>\n",
       "    <div id=\"wrapperr\">\n",
       "        <!--begin wrapper-->\n",
       "        <div id=\"header\">\n",
       "            <ul>\n",
       "                <li>\n",
       "                    <h2 id=\"logo\">StackOverFLowLite</h2>\n",
       "                </li>\n",
       "                <li>\n",
       "                        <a  href=\"questions.html\">Home</a>\n",
       "                    </li>\n",
       "                <li id=\"right\">\n",
       "                    <a  href=\"signup.html\">Sign Up</a>\n",
       "                </li>\n",
       "                <li id=\"right\">\n",
       "                    <a href=\"login.html\">Sign In</a>\n",
       "                </li>\n",
       "            </ul> \n",
       "        </div>\n",
       "        <div id=\"body\" >\n",
       "            <div class=\"index\"><br><br>\n",
       "                <h3>StackOverFLowLite</h3>\n",
       "                <hr id=\"ruler\">\n",
       "                <h4>A platfrom for Everyone</h4>\n",
       "                <h5>Welcome all</h5>\n",
       "                <h3>About SOL</h3>\n",
       "                <table style=\"width:100%\">\n",
       "  <tr>\n",
       "    <th>Firstname</th>\n",
       "    <th>Lastname</th> \n",
       "    <th>Age</th>\n",
       "  </tr>\n",
       "  <tr>\n",
       "    <td>Jill</td>\n",
       "    <td>Smith</td>\n",
       "    <td>50</td>\n",
       "  </tr>\n",
       "  <tr>\n",
       "    <td>Eve</td>\n",
       "    <td>Jackson</td>\n",
       "    <td>94</td>\n",
       "  </tr>\n",
       "  <tr>\n",
       "    <td>John</td>\n",
       "    <td>Doe</td>\n",
       "    <td>80</td>\n",
       "  </tr>\n",
       "</table>\n",
       "                <h4>StackOverflow-lite is a platform where people can ask questions and provide answers</h4>\n",
       "            </div>\n",
       "        </div>\n",
       "        <div id=\"footer\">\n",
       "            <p>&copy StackOverFLowLite.All rights reserved </p>\n",
       "        </div>\n",
       "    </div>\n",
       "    <!--end of wrapper-->\n",
       "</body>\n",
       "\n",
       "</html>\n"
      ],
      "text/plain": [
       "<IPython.core.display.HTML object>"
      ]
     },
     "metadata": {},
     "output_type": "display_data"
    }
   ],
   "source": [
    "# display html string on jupyter notebook\n",
    "from IPython.core.display import display, HTML\n",
    "display(HTML(html_string))"
   ]
  },
  {
   "cell_type": "code",
   "execution_count": 44,
   "metadata": {},
   "outputs": [],
   "source": [
    "html_object = BeautifulSoup(html_string)"
   ]
  },
  {
   "cell_type": "code",
   "execution_count": 45,
   "metadata": {},
   "outputs": [
    {
     "name": "stdout",
     "output_type": "stream",
     "text": [
      "<!DOCTYPE html>\n",
      "<html>\n",
      "<head>\n",
      "<meta charset=\"utf-8\"/>\n",
      "<meta content=\"IE=edge\" http-equiv=\"X-UA-Compatible\"/>\n",
      "<title>Homepage</title>\n",
      "<meta content=\"width=device-width, initial-scale=1\" name=\"viewport\"/>\n",
      "<link href=\"main.css\" media=\"screen\" rel=\"stylesheet\" type=\"text/css\"/>\n",
      "<script src=\"main.js\"></script>\n",
      "</head>\n",
      "<body>\n",
      "<div id=\"wrapperr\">\n",
      "<!--begin wrapper-->\n",
      "<div id=\"header\">\n",
      "<ul>\n",
      "<li>\n",
      "<h2 id=\"logo\">StackOverFLowLite</h2>\n",
      "</li>\n",
      "<li>\n",
      "<a href=\"questions.html\">Home</a>\n",
      "</li>\n",
      "<li id=\"right\">\n",
      "<a href=\"signup.html\">Sign Up</a>\n",
      "</li>\n",
      "<li id=\"right\">\n",
      "<a href=\"login.html\">Sign In</a>\n",
      "</li>\n",
      "</ul>\n",
      "</div>\n",
      "<div id=\"body\">\n",
      "<div class=\"index\"><br/><br/>\n",
      "<h3>StackOverFLowLite</h3>\n",
      "<hr id=\"ruler\"/>\n",
      "<h4>A platfrom for Everyone</h4>\n",
      "<h5>Welcome all</h5>\n",
      "<h3>About SOL</h3>\n",
      "<table style=\"width:100%\">\n",
      "<tr>\n",
      "<th>Firstname</th>\n",
      "<th>Lastname</th>\n",
      "<th>Age</th>\n",
      "</tr>\n",
      "<tr>\n",
      "<td>Jill</td>\n",
      "<td>Smith</td>\n",
      "<td>50</td>\n",
      "</tr>\n",
      "<tr>\n",
      "<td>Eve</td>\n",
      "<td>Jackson</td>\n",
      "<td>94</td>\n",
      "</tr>\n",
      "<tr>\n",
      "<td>John</td>\n",
      "<td>Doe</td>\n",
      "<td>80</td>\n",
      "</tr>\n",
      "</table>\n",
      "<h4>StackOverflow-lite is a platform where people can ask questions and provide answers</h4>\n",
      "</div>\n",
      "</div>\n",
      "<div id=\"footer\">\n",
      "<p>&amp;copy StackOverFLowLite.All rights reserved </p>\n",
      "</div>\n",
      "</div>\n",
      "<!--end of wrapper-->\n",
      "</body>\n",
      "</html>\n",
      "\n"
     ]
    }
   ],
   "source": [
    "print html_object\n"
   ]
  },
  {
   "cell_type": "code",
   "execution_count": 46,
   "metadata": {},
   "outputs": [
    {
     "name": "stdout",
     "output_type": "stream",
     "text": [
      "A platfrom for Everyone\n"
     ]
    }
   ],
   "source": [
    "print html_object.find('h4').text"
   ]
  },
  {
   "cell_type": "markdown",
   "metadata": {},
   "source": [
    "### find all h4 elements \n"
   ]
  },
  {
   "cell_type": "code",
   "execution_count": 47,
   "metadata": {},
   "outputs": [
    {
     "name": "stdout",
     "output_type": "stream",
     "text": [
      "[<h4>A platfrom for Everyone</h4>, <h4>StackOverflow-lite is a platform where people can ask questions and provide answers</h4>]\n"
     ]
    }
   ],
   "source": [
    "h4_elements = html_object.findAll('h4')\n",
    "print h4_elements"
   ]
  },
  {
   "cell_type": "markdown",
   "metadata": {},
   "source": [
    "### Loop over the list of every h4 elements and print each text node on the element"
   ]
  },
  {
   "cell_type": "code",
   "execution_count": 48,
   "metadata": {},
   "outputs": [
    {
     "name": "stdout",
     "output_type": "stream",
     "text": [
      "text:A platfrom for Everyone\n",
      "\n",
      "text:StackOverflow-lite is a platform where people can ask questions and provide answers\n",
      "\n"
     ]
    }
   ],
   "source": [
    "for element in h4_elements:\n",
    "    print \"text:{}\\n\".format(element.text)"
   ]
  },
  {
   "cell_type": "markdown",
   "metadata": {},
   "source": [
    "### You can also use attributes to find what you need"
   ]
  },
  {
   "cell_type": "code",
   "execution_count": 49,
   "metadata": {},
   "outputs": [
    {
     "data": {
      "text/plain": [
       "u'StackOverFLowLite'"
      ]
     },
     "execution_count": 49,
     "metadata": {},
     "output_type": "execute_result"
    }
   ],
   "source": [
    "html_object.find(attrs={'id':'logo'}).text"
   ]
  },
  {
   "cell_type": "markdown",
   "metadata": {},
   "source": [
    "### Extracting data from tables"
   ]
  },
  {
   "cell_type": "code",
   "execution_count": 51,
   "metadata": {},
   "outputs": [],
   "source": [
    "body = html_object.find('body')\n",
    "table = body.find('table')"
   ]
  },
  {
   "cell_type": "code",
   "execution_count": 157,
   "metadata": {},
   "outputs": [
    {
     "name": "stdout",
     "output_type": "stream",
     "text": [
      "Jill\n",
      "Smith\n",
      "50\n",
      "Eve\n",
      "Jackson\n",
      "94\n",
      "John\n",
      "Doe\n",
      "80\n"
     ]
    }
   ],
   "source": [
    "module_table = body.find(name='table')\n",
    "heads = module_table.findAll('th')\n",
    "\n",
    "for row in module_table.findAll('tr'):\n",
    "    for data in row.findAll('td'):\n",
    "        print data.text\n",
    "\n",
    "\n"
   ]
  },
  {
   "cell_type": "code",
   "execution_count": null,
   "metadata": {},
   "outputs": [],
   "source": [
    "for th, tr"
   ]
  }
 ],
 "metadata": {
  "kernelspec": {
   "display_name": "Python 2",
   "language": "python",
   "name": "python2"
  },
  "language_info": {
   "codemirror_mode": {
    "name": "ipython",
    "version": 2
   },
   "file_extension": ".py",
   "mimetype": "text/x-python",
   "name": "python",
   "nbconvert_exporter": "python",
   "pygments_lexer": "ipython2",
   "version": "2.7.15"
  }
 },
 "nbformat": 4,
 "nbformat_minor": 2
}
