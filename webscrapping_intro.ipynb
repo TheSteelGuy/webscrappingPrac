{
 "cells": [
  {
   "cell_type": "code",
   "execution_count": 3,
   "metadata": {},
   "outputs": [],
   "source": [
    "# the imports are available if you installed anaconda\n",
    "import requests\n",
    "from bs4 import BeautifulSoup"
   ]
  },
  {
   "cell_type": "markdown",
   "metadata": {},
   "source": [
    "### an example of the dom elements to be screpped\n"
   ]
  },
  {
   "cell_type": "code",
   "execution_count": 8,
   "metadata": {},
   "outputs": [],
   "source": [
    "html_string = \"\"\"\n",
    "<!DOCTYPE html>\n",
    "<html>\n",
    "\n",
    "<head>\n",
    "    <meta charset=\"utf-8\" />\n",
    "    <meta http-equiv=\"X-UA-Compatible\" content=\"IE=edge\">\n",
    "    <title>Homepage</title>\n",
    "    <meta name=\"viewport\" content=\"width=device-width, initial-scale=1\">\n",
    "    <link rel=\"stylesheet\" type=\"text/css\" media=\"screen\" href=\"main.css\" />\n",
    "    <script src=\"main.js\"></script>\n",
    "</head>\n",
    "\n",
    "<body>\n",
    "    <div id=\"wrapperr\">\n",
    "        <!--begin wrapper-->\n",
    "        <div id=\"header\">\n",
    "            <ul>\n",
    "                <li>\n",
    "                    <h2 id=\"logo\">StackOverFLowLite</h2>\n",
    "                </li>\n",
    "                <li>\n",
    "                        <a  href=\"questions.html\">Home</a>\n",
    "                    </li>\n",
    "                <li id=\"right\">\n",
    "                    <a  href=\"signup.html\">Sign Up</a>\n",
    "                </li>\n",
    "                <li id=\"right\">\n",
    "                    <a href=\"login.html\">Sign In</a>\n",
    "                </li>\n",
    "            </ul> \n",
    "        </div>\n",
    "        <div id=\"body\" >\n",
    "            <div class=\"index\"><br><br>\n",
    "                <h3>StackOverFLowLite</h3>\n",
    "                <hr id=\"ruler\">\n",
    "                <h4>A platfrom for Everyone</h4>\n",
    "                <h5>Welcome all</h5>\n",
    "                <h3>About SOL</h3>\n",
    "                <h4>StackOverflow-lite is a platform where people can ask questions and provide answers</h4>\n",
    "            </div>\n",
    "        </div>\n",
    "        <div id=\"footer\">\n",
    "            <p>&copy StackOverFLowLite.All rights reserved </p>\n",
    "        </div>\n",
    "    </div>\n",
    "    <!--end of wrapper-->\n",
    "</body>\n",
    "\n",
    "</html>\n",
    "\"\"\"\n"
   ]
  },
  {
   "cell_type": "code",
   "execution_count": 9,
   "metadata": {},
   "outputs": [
    {
     "data": {
      "text/html": [
       "\n",
       "<!DOCTYPE html>\n",
       "<html>\n",
       "\n",
       "<head>\n",
       "    <meta charset=\"utf-8\" />\n",
       "    <meta http-equiv=\"X-UA-Compatible\" content=\"IE=edge\">\n",
       "    <title>Homepage</title>\n",
       "    <meta name=\"viewport\" content=\"width=device-width, initial-scale=1\">\n",
       "    <link rel=\"stylesheet\" type=\"text/css\" media=\"screen\" href=\"main.css\" />\n",
       "    <script src=\"main.js\"></script>\n",
       "</head>\n",
       "\n",
       "<body>\n",
       "    <div id=\"wrapperr\">\n",
       "        <!--begin wrapper-->\n",
       "        <div id=\"header\">\n",
       "            <ul>\n",
       "                <li>\n",
       "                    <h2 id=\"logo\">StackOverFLowLite</h2>\n",
       "                </li>\n",
       "                <li>\n",
       "                        <a  href=\"questions.html\">Home</a>\n",
       "                    </li>\n",
       "                <li id=\"right\">\n",
       "                    <a  href=\"signup.html\">Sign Up</a>\n",
       "                </li>\n",
       "                <li id=\"right\">\n",
       "                    <a href=\"login.html\">Sign In</a>\n",
       "                </li>\n",
       "            </ul> \n",
       "        </div>\n",
       "        <div id=\"body\" >\n",
       "            <div class=\"index\"><br><br>\n",
       "                <h3>StackOverFLowLite</h3>\n",
       "                <hr id=\"ruler\">\n",
       "                <h4>A platfrom for Everyone</h4>\n",
       "                <h5>Welcome all</h5>\n",
       "                <h3>About SOL</h3>\n",
       "                <h4>StackOverflow-lite is a platform where people can ask questions and provide answers</h4>\n",
       "            </div>\n",
       "        </div>\n",
       "        <div id=\"footer\">\n",
       "            <p>&copy StackOverFLowLite.All rights reserved </p>\n",
       "        </div>\n",
       "    </div>\n",
       "    <!--end of wrapper-->\n",
       "</body>\n",
       "\n",
       "</html>\n"
      ],
      "text/plain": [
       "<IPython.core.display.HTML object>"
      ]
     },
     "metadata": {},
     "output_type": "display_data"
    }
   ],
   "source": [
    "# display html string on jupyter notebook\n",
    "from IPython.core.display import display, HTML\n",
    "display(HTML(html_string))"
   ]
  },
  {
   "cell_type": "code",
   "execution_count": null,
   "metadata": {},
   "outputs": [],
   "source": []
  }
 ],
 "metadata": {
  "kernelspec": {
   "display_name": "Python 2",
   "language": "python",
   "name": "python2"
  },
  "language_info": {
   "codemirror_mode": {
    "name": "ipython",
    "version": 2
   },
   "file_extension": ".py",
   "mimetype": "text/x-python",
   "name": "python",
   "nbconvert_exporter": "python",
   "pygments_lexer": "ipython2",
   "version": "2.7.15"
  }
 },
 "nbformat": 4,
 "nbformat_minor": 2
}
